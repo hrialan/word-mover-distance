{
 "cells": [
  {
   "cell_type": "markdown",
   "metadata": {},
   "source": [
    "# Word mover's distance implementation\n",
    "\n",
    "Original research paper link :[https://proceedings.mlr.press/v37/kusnerb15.pdf](https://proceedings.mlr.press/v37/kusnerb15.pdf)"
   ]
  },
  {
   "cell_type": "code",
   "execution_count": 246,
   "metadata": {},
   "outputs": [],
   "source": [
    "!pip3 install --quiet -r requirements.txt"
   ]
  },
  {
   "cell_type": "code",
   "execution_count": 247,
   "metadata": {},
   "outputs": [],
   "source": [
    "sentence_obama     = 'Obama speaks to the media in Illinois'\n",
    "sentence_obama_bis = 'Obama meets the media in Illinois'\n",
    "sentence_president = 'The president greets the press in Chicago'\n",
    "sentence_random    = 'We are following a course on optimal transport. This course is given at Chicago.'"
   ]
  },
  {
   "cell_type": "code",
   "execution_count": 248,
   "metadata": {},
   "outputs": [
    {
     "name": "stderr",
     "output_type": "stream",
     "text": [
      "[nltk_data] Downloading package stopwords to\n",
      "[nltk_data]     /Users/hrialan/nltk_data...\n",
      "[nltk_data]   Package stopwords is already up-to-date!\n"
     ]
    }
   ],
   "source": [
    "# Import and download stopwords from NLTK.\n",
    "from nltk.corpus import stopwords\n",
    "from nltk import download\n",
    "download('stopwords')  # Download stopwords list.\n",
    "stop_words = stopwords.words('english')\n",
    "\n",
    "def preprocess(sentence):\n",
    "    return [w for w in sentence.lower().split() if w not in stop_words]\n",
    "\n",
    "sentence_obama     = preprocess(sentence_obama)\n",
    "sentence_obama_bis = preprocess(sentence_obama_bis)\n",
    "sentence_president = preprocess(sentence_president)\n",
    "sentence_random    = preprocess(sentence_random)"
   ]
  },
  {
   "cell_type": "markdown",
   "metadata": {},
   "source": [
    "## Simple BOW distance"
   ]
  },
  {
   "cell_type": "code",
   "execution_count": 249,
   "metadata": {},
   "outputs": [],
   "source": [
    "corpus = [' '.join(sentence_obama),\n",
    "          ' '.join(sentence_obama_bis),\n",
    "          ' '.join(sentence_president),\n",
    "          ' '.join(sentence_random)]"
   ]
  },
  {
   "cell_type": "code",
   "execution_count": 250,
   "metadata": {},
   "outputs": [],
   "source": [
    "from sklearn.feature_extraction.text import CountVectorizer\n",
    "\n",
    "vectorizer = CountVectorizer()\n",
    "X = vectorizer.fit_transform(corpus)"
   ]
  },
  {
   "cell_type": "code",
   "execution_count": 251,
   "metadata": {},
   "outputs": [
    {
     "data": {
      "text/plain": [
       "array(['chicago', 'course', 'following', 'given', 'greets', 'illinois',\n",
       "       'media', 'meets', 'obama', 'optimal', 'president', 'press',\n",
       "       'speaks', 'transport'], dtype=object)"
      ]
     },
     "execution_count": 251,
     "metadata": {},
     "output_type": "execute_result"
    }
   ],
   "source": [
    "vectorizer.get_feature_names_out()"
   ]
  },
  {
   "cell_type": "code",
   "execution_count": 252,
   "metadata": {},
   "outputs": [
    {
     "data": {
      "text/plain": [
       "array([[0, 0, 0, 0, 0, 1, 1, 0, 1, 0, 0, 0, 1, 0],\n",
       "       [0, 0, 0, 0, 0, 1, 1, 1, 1, 0, 0, 0, 0, 0],\n",
       "       [1, 0, 0, 0, 1, 0, 0, 0, 0, 0, 1, 1, 0, 0],\n",
       "       [1, 2, 1, 1, 0, 0, 0, 0, 0, 1, 0, 0, 0, 1]])"
      ]
     },
     "execution_count": 252,
     "metadata": {},
     "output_type": "execute_result"
    }
   ],
   "source": [
    "X.toarray()"
   ]
  },
  {
   "cell_type": "code",
   "execution_count": 253,
   "metadata": {},
   "outputs": [],
   "source": [
    "X = (X / X.max()).toarray()"
   ]
  },
  {
   "cell_type": "code",
   "execution_count": 254,
   "metadata": {},
   "outputs": [
    {
     "name": "stdout",
     "output_type": "stream",
     "text": [
      "distance obama/president = 1.4142\n"
     ]
    }
   ],
   "source": [
    "from scipy.spatial import distance\n",
    "dist = distance.euclidean(X[0], X[2])\n",
    "print('distance obama/president = %.4f' % dist)"
   ]
  },
  {
   "cell_type": "code",
   "execution_count": 255,
   "metadata": {},
   "outputs": [
    {
     "name": "stdout",
     "output_type": "stream",
     "text": [
      "distance president/random = 1.6583\n"
     ]
    }
   ],
   "source": [
    "dist = distance.euclidean(X[2], X[3])\n",
    "print('distance president/random = %.4f' % dist)"
   ]
  },
  {
   "cell_type": "code",
   "execution_count": 256,
   "metadata": {},
   "outputs": [
    {
     "name": "stdout",
     "output_type": "stream",
     "text": [
      "distance obama/random = 1.8028\n"
     ]
    }
   ],
   "source": [
    "dist = distance.euclidean(X[0], X[3])\n",
    "print('distance obama/random = %.4f' % dist)"
   ]
  },
  {
   "cell_type": "code",
   "execution_count": 257,
   "metadata": {},
   "outputs": [
    {
     "name": "stdout",
     "output_type": "stream",
     "text": [
      "distance obama/obama_bis = 0.7071\n"
     ]
    }
   ],
   "source": [
    "dist = distance.euclidean(X[0], X[1])\n",
    "print('distance obama/obama_bis = %.4f' % dist)"
   ]
  },
  {
   "cell_type": "markdown",
   "metadata": {},
   "source": [
    "## Word mover's distance"
   ]
  },
  {
   "cell_type": "code",
   "execution_count": 258,
   "metadata": {},
   "outputs": [],
   "source": [
    "import gensim.downloader as api\n",
    "model = api.load('word2vec-google-news-300')"
   ]
  },
  {
   "cell_type": "code",
   "execution_count": 260,
   "metadata": {},
   "outputs": [
    {
     "name": "stdout",
     "output_type": "stream",
     "text": [
      "distance obama/president = 1.0175\n"
     ]
    }
   ],
   "source": [
    "dist = model.wmdistance(sentence_obama, sentence_president)\n",
    "print('distance obama/president = %.4f' % dist)"
   ]
  },
  {
   "cell_type": "code",
   "execution_count": 261,
   "metadata": {},
   "outputs": [
    {
     "name": "stdout",
     "output_type": "stream",
     "text": [
      "distance president/random = 1.3797\n"
     ]
    }
   ],
   "source": [
    "dist = model.wmdistance(sentence_president, sentence_random)\n",
    "print('distance president/random = %.4f' % dist)"
   ]
  },
  {
   "cell_type": "code",
   "execution_count": 262,
   "metadata": {},
   "outputs": [
    {
     "name": "stdout",
     "output_type": "stream",
     "text": [
      "distance obama/random = 1.3414\n"
     ]
    }
   ],
   "source": [
    "dist = model.wmdistance(sentence_obama, sentence_random)\n",
    "print('distance obama/random = %.4f' % dist)"
   ]
  },
  {
   "cell_type": "code",
   "execution_count": 263,
   "metadata": {},
   "outputs": [
    {
     "name": "stdout",
     "output_type": "stream",
     "text": [
      "distance obama/obama_bis = 0.2793\n"
     ]
    }
   ],
   "source": [
    "dist = model.wmdistance(sentence_obama, sentence_obama_bis)\n",
    "print('distance obama/obama_bis = %.4f' % dist)"
   ]
  }
 ],
 "metadata": {
  "interpreter": {
   "hash": "e86a7ce69512f8dd61aa6edc8e63c0dacadfe0df89919d6989261cfe73d9ca00"
  },
  "kernelspec": {
   "display_name": "Python 3.9.12 ('venv': venv)",
   "language": "python",
   "name": "python3"
  },
  "language_info": {
   "codemirror_mode": {
    "name": "ipython",
    "version": 3
   },
   "file_extension": ".py",
   "mimetype": "text/x-python",
   "name": "python",
   "nbconvert_exporter": "python",
   "pygments_lexer": "ipython3",
   "version": "3.9.12"
  },
  "orig_nbformat": 4
 },
 "nbformat": 4,
 "nbformat_minor": 2
}
